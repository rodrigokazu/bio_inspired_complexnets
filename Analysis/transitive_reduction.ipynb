{
 "cells": [
  {
   "cell_type": "markdown",
   "id": "31b47292-5dba-413c-b22b-2a3b77ad89c3",
   "metadata": {},
   "source": [
    "# Imports"
   ]
  },
  {
   "cell_type": "code",
   "execution_count": 21,
   "id": "77c31e9c-e9a4-4d3d-891f-ba4af9f80001",
   "metadata": {
    "tags": []
   },
   "outputs": [],
   "source": [
    "import pandas as pd\n",
    "import networkx as nx"
   ]
  },
  {
   "cell_type": "markdown",
   "id": "24cb3071-32a9-4fa3-8618-42fa418d04ad",
   "metadata": {
    "tags": []
   },
   "source": [
    "# Function definitions"
   ]
  },
  {
   "cell_type": "code",
   "execution_count": 37,
   "id": "0c385f52-8d58-4f5b-9172-0b0d0e742cd3",
   "metadata": {
    "tags": []
   },
   "outputs": [],
   "source": [
    "def transitive_reduction_general(G):\n",
    "    \"\"\"\n",
    "    Performs transitive reduction on a directed graph, including graphs with cycles.\n",
    "    Removes redundant edges while preserving cycles.\n",
    "    \"\"\"\n",
    "    TR = nx.DiGraph(G)  # Start with a full copy of G\n",
    "\n",
    "    # Iterate through all edges\n",
    "    for u, v in list(G.edges()):  # Work with a static edge list to avoid iteration issues\n",
    "        TR.remove_edge(u, v)  # Temporarily remove the edge\n",
    "\n",
    "        # If there is no alternative path from u to v, restore the edge\n",
    "        if not nx.has_path(TR, u, v):\n",
    "            TR.add_edge(u, v)  # Edge is essential, keep it\n",
    "\n",
    "    print(f\"Original Graph Edges: {G.number_of_edges()}\")\n",
    "    print(f\"Reduced Graph Edges: {TR.number_of_edges()}\")\n",
    "\n",
    "    return TR"
   ]
  },
  {
   "cell_type": "markdown",
   "id": "e528bbf2-7f69-4474-9e99-eb9b29e88d81",
   "metadata": {},
   "source": [
    "# Loading different connectomes"
   ]
  },
  {
   "cell_type": "code",
   "execution_count": 36,
   "id": "5fc43b02-811e-4eaa-a4ca-34da8a8cf7c9",
   "metadata": {
    "tags": []
   },
   "outputs": [],
   "source": [
    "# Load the .edges file\n",
    "G = nx.read_edgelist(\"mota_net_death50.edges\", create_using=nx.DiGraph(), nodetype=str, data=((\"weight\", float),))"
   ]
  },
  {
   "cell_type": "code",
   "execution_count": null,
   "id": "1bf84b75-e907-47f6-a375-cd2c7bd7e91a",
   "metadata": {},
   "outputs": [],
   "source": [
    "# Load the .edges file\n",
    "G = nx.read_edgelist(\"mota_net_pruning50.edges\", create_using=nx.DiGraph(), nodetype=str, data=((\"weight\", float),))"
   ]
  },
  {
   "cell_type": "code",
   "execution_count": 31,
   "id": "6ee5a562-04d5-46f0-8570-6364bae10267",
   "metadata": {
    "tags": []
   },
   "outputs": [],
   "source": [
    "# Load the .edges file\n",
    "G = nx.read_edgelist(\"mota_net_pruning1850.edges\", create_using=nx.DiGraph(), nodetype=str, data=((\"weight\", float),))"
   ]
  },
  {
   "cell_type": "code",
   "execution_count": 17,
   "id": "524c20d1-df21-4c96-9c68-dd4bcc2f4cce",
   "metadata": {
    "tags": []
   },
   "outputs": [],
   "source": [
    "# Load the CSV file\n",
    "file_path = \"Celegans.csv\"\n",
    "df = pd.read_csv(file_path, header=None)  # Assuming no header row\n",
    "\n",
    "# Create a directed graph\n",
    "G = nx.DiGraph()\n",
    "\n",
    "# Add edges without weights\n",
    "G.add_edges_from(df.iloc[:, :2].values)\n",
    "\n"
   ]
  },
  {
   "cell_type": "code",
   "execution_count": 22,
   "id": "a3a797a7-3a7a-4d29-a01e-27365986aee6",
   "metadata": {
    "tags": []
   },
   "outputs": [],
   "source": [
    "# Load the CSV file\n",
    "file_path = \"Drosophila_central_brain.csv\"\n",
    "df = pd.read_csv(file_path, header=None)  # Assuming no header row\n",
    "\n",
    "# Create a directed graph\n",
    "G = nx.DiGraph()\n",
    "\n",
    "# Add edges without weights\n",
    "G.add_edges_from(df.iloc[:, :2].values)\n"
   ]
  },
  {
   "cell_type": "code",
   "execution_count": 29,
   "id": "b7a647fd-7249-4726-be78-9a8e63b0975a",
   "metadata": {
    "tags": []
   },
   "outputs": [],
   "source": [
    "# Load the CSV file\n",
    "file_path = \"Mouse_retina.csv\"\n",
    "df = pd.read_csv(file_path, header=None)  # Assuming no header row\n",
    "\n",
    "# Create a directed graph\n",
    "G = nx.DiGraph()\n",
    "\n",
    "# Add edges without weights\n",
    "G.add_edges_from(df.iloc[:, :2].values)"
   ]
  },
  {
   "cell_type": "code",
   "execution_count": 27,
   "id": "aa4da0ca-b7d6-46c6-b825-910f40db865d",
   "metadata": {
    "tags": []
   },
   "outputs": [],
   "source": [
    "# Load the CSV file\n",
    "file_path = \"Platynereis_sensory_motor.csv\"\n",
    "df = pd.read_csv(file_path, header=None)  # Assuming no header row\n",
    "\n",
    "# Create a directed graph\n",
    "G = nx.DiGraph()\n",
    "\n",
    "# Add edges without weights\n",
    "G.add_edges_from(df.iloc[:, :2].values)"
   ]
  },
  {
   "cell_type": "markdown",
   "id": "77a56a75-5264-42c1-a675-b5410897839b",
   "metadata": {
    "jp-MarkdownHeadingCollapsed": true,
    "tags": []
   },
   "source": [
    "# Sanity checks"
   ]
  },
  {
   "cell_type": "code",
   "execution_count": 23,
   "id": "bd3753db-5446-421c-97d9-9615ab6eb426",
   "metadata": {
    "tags": []
   },
   "outputs": [
    {
     "name": "stdout",
     "output_type": "stream",
     "text": [
      "3550403\n"
     ]
    }
   ],
   "source": [
    "print(G.number_of_edges())\n"
   ]
  },
  {
   "cell_type": "code",
   "execution_count": 24,
   "id": "bb9ffedf-014a-43f4-870b-4e4eb1b1d921",
   "metadata": {
    "tags": []
   },
   "outputs": [
    {
     "name": "stdout",
     "output_type": "stream",
     "text": [
      "Graph is not a DAG. Cannot perform transitive reduction.\n"
     ]
    }
   ],
   "source": [
    "if nx.is_directed_acyclic_graph(G):\n",
    "    rG = nx.transitive_reduction(G)\n",
    "    print(rG.number_of_edges())\n",
    "else:\n",
    "    print(\"Graph is not a DAG. Cannot perform transitive reduction.\")\n"
   ]
  },
  {
   "cell_type": "code",
   "execution_count": 25,
   "id": "4d9ebb09-a7c6-4ef2-81d9-da8d8a1bb033",
   "metadata": {
    "tags": []
   },
   "outputs": [
    {
     "name": "stdout",
     "output_type": "stream",
     "text": [
      "Strongly Connected Components Sizes: [21689, 1, 1, 1, 1, 1, 1, 1, 1, 1, 1, 1, 1, 1, 1, 1, 1, 1, 1, 1, 1, 1, 1, 1, 1, 1, 1, 1, 1, 1, 1, 1, 1, 1, 1, 1, 1, 1, 1, 1, 1, 1, 1, 1, 1, 1, 1, 1, 1, 1, 1]\n"
     ]
    }
   ],
   "source": [
    "scc = list(nx.strongly_connected_components(G))\n",
    "scc_sizes = [len(component) for component in scc]\n",
    "print(f\"Strongly Connected Components Sizes: {sorted(scc_sizes, reverse=True)}\")\n"
   ]
  },
  {
   "cell_type": "markdown",
   "id": "2018ed36-e67f-432d-81d0-f9f95f604785",
   "metadata": {},
   "source": [
    "# Calculating the fungible fraction"
   ]
  },
  {
   "cell_type": "code",
   "execution_count": null,
   "id": "1109b2b3-45d9-4c55-9334-67f3b44a71a1",
   "metadata": {
    "tags": []
   },
   "outputs": [],
   "source": [
    "# Apply to your connectome graph\n",
    "reduced_G = transitive_reduction_general(G)\n"
   ]
  },
  {
   "cell_type": "code",
   "execution_count": 34,
   "id": "c5c2f504-99db-4a5a-890f-7f9bf211202e",
   "metadata": {
    "tags": []
   },
   "outputs": [
    {
     "name": "stdout",
     "output_type": "stream",
     "text": [
      "6.463492036892346\n"
     ]
    }
   ],
   "source": [
    "n_fungible = reduced_G.number_of_edges()/G.number_of_edges()\n",
    "n_fungible = n_fungible*100\n",
    "print(n_fungible)"
   ]
  },
  {
   "cell_type": "code",
   "execution_count": null,
   "id": "dacb3265-4bab-4636-b0cc-396842f9b8f3",
   "metadata": {},
   "outputs": [],
   "source": []
  }
 ],
 "metadata": {
  "kernelspec": {
   "display_name": "Control",
   "language": "python",
   "name": "control"
  },
  "language_info": {
   "codemirror_mode": {
    "name": "ipython",
    "version": 3
   },
   "file_extension": ".py",
   "mimetype": "text/x-python",
   "name": "python",
   "nbconvert_exporter": "python",
   "pygments_lexer": "ipython3",
   "version": "3.9.21"
  }
 },
 "nbformat": 4,
 "nbformat_minor": 5
}
